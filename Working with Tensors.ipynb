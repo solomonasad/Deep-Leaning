{
 "cells": [
  {
   "cell_type": "code",
   "execution_count": 1,
   "id": "f71ef73d",
   "metadata": {},
   "outputs": [],
   "source": [
    "import torch\n",
    "import torch.nn as nn\n",
    "import numpy as np\n",
    "import matplotlib.pyplot as plt\n",
    "import time"
   ]
  },
  {
   "cell_type": "markdown",
   "id": "c3e4e9da",
   "metadata": {},
   "source": [
    "## Numpy vs. Torch"
   ]
  },
  {
   "cell_type": "code",
   "execution_count": 2,
   "id": "9ca78abd",
   "metadata": {},
   "outputs": [],
   "source": [
    "n = np.linspace(0, 1, 5)\n",
    "t = torch.linspace(0, 1, 5)"
   ]
  },
  {
   "cell_type": "code",
   "execution_count": 5,
   "id": "ca69daa6",
   "metadata": {},
   "outputs": [
    {
     "data": {
      "text/plain": [
       "array([0.  , 0.25, 0.5 , 0.75, 1.  ])"
      ]
     },
     "execution_count": 5,
     "metadata": {},
     "output_type": "execute_result"
    }
   ],
   "source": [
    "n"
   ]
  },
  {
   "cell_type": "code",
   "execution_count": 6,
   "id": "001866db",
   "metadata": {},
   "outputs": [
    {
     "data": {
      "text/plain": [
       "tensor([0.0000, 0.2500, 0.5000, 0.7500, 1.0000])"
      ]
     },
     "execution_count": 6,
     "metadata": {},
     "output_type": "execute_result"
    }
   ],
   "source": [
    "t"
   ]
  },
  {
   "cell_type": "code",
   "execution_count": 9,
   "id": "1db932c3",
   "metadata": {},
   "outputs": [],
   "source": [
    "n = np.arange(48).reshape(3,4,4)\n",
    "t = torch.arange(48).reshape(3,4,4)"
   ]
  },
  {
   "cell_type": "code",
   "execution_count": 11,
   "id": "e506a18c",
   "metadata": {},
   "outputs": [
    {
     "data": {
      "text/plain": [
       "array([[[ 0,  1,  2,  3],\n",
       "        [ 4,  5,  6,  7],\n",
       "        [ 8,  9, 10, 11],\n",
       "        [12, 13, 14, 15]],\n",
       "\n",
       "       [[16, 17, 18, 19],\n",
       "        [20, 21, 22, 23],\n",
       "        [24, 25, 26, 27],\n",
       "        [28, 29, 30, 31]],\n",
       "\n",
       "       [[32, 33, 34, 35],\n",
       "        [36, 37, 38, 39],\n",
       "        [40, 41, 42, 43],\n",
       "        [44, 45, 46, 47]]])"
      ]
     },
     "execution_count": 11,
     "metadata": {},
     "output_type": "execute_result"
    }
   ],
   "source": [
    "n"
   ]
  },
  {
   "cell_type": "code",
   "execution_count": 13,
   "id": "3abd4d2e",
   "metadata": {},
   "outputs": [
    {
     "data": {
      "text/plain": [
       "tensor([[[ 0,  1,  2,  3],\n",
       "         [ 4,  5,  6,  7],\n",
       "         [ 8,  9, 10, 11],\n",
       "         [12, 13, 14, 15]],\n",
       "\n",
       "        [[16, 17, 18, 19],\n",
       "         [20, 21, 22, 23],\n",
       "         [24, 25, 26, 27],\n",
       "         [28, 29, 30, 31]],\n",
       "\n",
       "        [[32, 33, 34, 35],\n",
       "         [36, 37, 38, 39],\n",
       "         [40, 41, 42, 43],\n",
       "         [44, 45, 46, 47]]])"
      ]
     },
     "execution_count": 13,
     "metadata": {},
     "output_type": "execute_result"
    }
   ],
   "source": [
    "t"
   ]
  },
  {
   "cell_type": "markdown",
   "id": "34f80958",
   "metadata": {},
   "source": [
    "## Broadcasting Rules"
   ]
  },
  {
   "cell_type": "code",
   "execution_count": 16,
   "id": "5499c99b",
   "metadata": {},
   "outputs": [],
   "source": [
    "a = np.ones((6,5))\n",
    "b = np.arange(5).reshape((1,5))"
   ]
  },
  {
   "cell_type": "code",
   "execution_count": 17,
   "id": "9236a588",
   "metadata": {},
   "outputs": [
    {
     "data": {
      "text/plain": [
       "array([[1., 1., 1., 1., 1.],\n",
       "       [1., 1., 1., 1., 1.],\n",
       "       [1., 1., 1., 1., 1.],\n",
       "       [1., 1., 1., 1., 1.],\n",
       "       [1., 1., 1., 1., 1.],\n",
       "       [1., 1., 1., 1., 1.]])"
      ]
     },
     "execution_count": 17,
     "metadata": {},
     "output_type": "execute_result"
    }
   ],
   "source": [
    "a"
   ]
  },
  {
   "cell_type": "code",
   "execution_count": 18,
   "id": "12e96752",
   "metadata": {},
   "outputs": [
    {
     "data": {
      "text/plain": [
       "array([[0, 1, 2, 3, 4]])"
      ]
     },
     "execution_count": 18,
     "metadata": {},
     "output_type": "execute_result"
    }
   ],
   "source": [
    "b"
   ]
  },
  {
   "cell_type": "code",
   "execution_count": 15,
   "id": "792a8570",
   "metadata": {},
   "outputs": [
    {
     "data": {
      "text/plain": [
       "array([[1., 2., 3., 4., 5.],\n",
       "       [1., 2., 3., 4., 5.],\n",
       "       [1., 2., 3., 4., 5.],\n",
       "       [1., 2., 3., 4., 5.],\n",
       "       [1., 2., 3., 4., 5.],\n",
       "       [1., 2., 3., 4., 5.]])"
      ]
     },
     "execution_count": 15,
     "metadata": {},
     "output_type": "execute_result"
    }
   ],
   "source": [
    "a+b"
   ]
  },
  {
   "cell_type": "code",
   "execution_count": 20,
   "id": "c2111184",
   "metadata": {},
   "outputs": [],
   "source": [
    "a = torch.ones((6,5))\n",
    "b = torch.arange(5).reshape((1,5))"
   ]
  },
  {
   "cell_type": "code",
   "execution_count": 21,
   "id": "c3bd1eb9",
   "metadata": {},
   "outputs": [
    {
     "data": {
      "text/plain": [
       "tensor([[1., 2., 3., 4., 5.],\n",
       "        [1., 2., 3., 4., 5.],\n",
       "        [1., 2., 3., 4., 5.],\n",
       "        [1., 2., 3., 4., 5.],\n",
       "        [1., 2., 3., 4., 5.],\n",
       "        [1., 2., 3., 4., 5.]])"
      ]
     },
     "execution_count": 21,
     "metadata": {},
     "output_type": "execute_result"
    }
   ],
   "source": [
    "a+b"
   ]
  },
  {
   "cell_type": "code",
   "execution_count": 22,
   "id": "3ec6781b",
   "metadata": {},
   "outputs": [],
   "source": [
    "Image = torch.randn((256, 256, 3))\n",
    "Scale = torch.tensor([0.5, 1.5, 1])"
   ]
  },
  {
   "cell_type": "code",
   "execution_count": 24,
   "id": "1b386de8",
   "metadata": {},
   "outputs": [
    {
     "data": {
      "text/plain": [
       "tensor([[[-0.0116,  2.8878,  0.5161],\n",
       "         [-0.0058,  0.8455,  1.6469],\n",
       "         [ 0.4209, -2.0178, -1.1222],\n",
       "         ...,\n",
       "         [ 0.2095,  1.6486, -0.3434],\n",
       "         [ 0.6038,  0.0735, -0.5222],\n",
       "         [ 0.0949,  1.4364, -1.6197]],\n",
       "\n",
       "        [[ 0.1346, -2.8148, -1.3719],\n",
       "         [ 0.1537,  0.2825,  0.5833],\n",
       "         [-0.0129, -1.4925, -0.0302],\n",
       "         ...,\n",
       "         [ 0.2715,  2.2777,  1.3745],\n",
       "         [ 0.0501, -0.1268, -1.2639],\n",
       "         [-0.0729, -0.1458, -1.9891]],\n",
       "\n",
       "        [[-0.7795,  0.8754, -0.0721],\n",
       "         [-0.4125,  2.0751, -0.6730],\n",
       "         [-0.0149, -0.4938,  0.1945],\n",
       "         ...,\n",
       "         [-0.1020,  1.3631, -0.7928],\n",
       "         [ 0.3687, -1.0977,  1.0162],\n",
       "         [-1.1105,  2.6920,  0.9994]],\n",
       "\n",
       "        ...,\n",
       "\n",
       "        [[ 0.5973,  1.2185,  1.0693],\n",
       "         [ 0.3607,  0.3135,  0.3813],\n",
       "         [-0.0952,  2.5006, -0.3416],\n",
       "         ...,\n",
       "         [-0.2546, -0.9054,  1.4237],\n",
       "         [-0.4242, -1.0454, -0.7141],\n",
       "         [ 0.2552,  0.5269, -0.6070]],\n",
       "\n",
       "        [[-0.1881, -0.1134, -0.9635],\n",
       "         [ 0.2645, -0.9940, -1.2998],\n",
       "         [-0.6467,  1.8640,  0.9276],\n",
       "         ...,\n",
       "         [ 0.1689, -1.8503, -0.2562],\n",
       "         [ 0.3300,  1.9316,  0.4290],\n",
       "         [-0.4486,  1.2300, -0.4758]],\n",
       "\n",
       "        [[ 0.0447,  1.2336,  0.0464],\n",
       "         [ 0.6014, -2.0730, -0.0912],\n",
       "         [-0.2502, -0.5043,  0.0861],\n",
       "         ...,\n",
       "         [ 0.2577,  0.9556,  1.2136],\n",
       "         [-0.1899,  0.4102, -0.8764],\n",
       "         [-0.4346, -1.1162,  0.6469]]])"
      ]
     },
     "execution_count": 24,
     "metadata": {},
     "output_type": "execute_result"
    }
   ],
   "source": [
    "Result = Image*Scale\n",
    "Result"
   ]
  },
  {
   "cell_type": "code",
   "execution_count": 25,
   "id": "e059274e",
   "metadata": {},
   "outputs": [],
   "source": [
    "Images = torch.randn((2, 256, 256, 3))\n",
    "Scales = torch.tensor([0.5, 1.5, 1, 1.5, 1, 0.5]).reshape((2, 1, 1, 3))"
   ]
  },
  {
   "cell_type": "code",
   "execution_count": 26,
   "id": "5e277ffb",
   "metadata": {},
   "outputs": [
    {
     "data": {
      "text/plain": [
       "tensor([[[[-1.0698, -1.0983,  0.6905],\n",
       "          [-0.2892, -0.5351,  0.6984],\n",
       "          [ 0.1825, -0.9775,  0.8060],\n",
       "          ...,\n",
       "          [-0.6900, -1.6356,  1.4110],\n",
       "          [ 0.1887, -2.1827,  1.0752],\n",
       "          [-0.0594, -0.4214, -0.8355]],\n",
       "\n",
       "         [[ 0.9300,  0.1335,  0.9396],\n",
       "          [-0.3079, -2.7489, -1.0590],\n",
       "          [ 0.3366, -0.2106,  1.2782],\n",
       "          ...,\n",
       "          [-0.3371,  1.7786, -0.4677],\n",
       "          [ 0.0147, -0.2806,  0.9291],\n",
       "          [ 0.4620, -0.5175, -0.3288]],\n",
       "\n",
       "         [[-0.1316, -0.3055, -0.7113],\n",
       "          [-0.6695,  1.0207,  0.0144],\n",
       "          [ 1.1963, -0.1317,  0.7860],\n",
       "          ...,\n",
       "          [ 0.5748, -0.9786,  1.0853],\n",
       "          [-1.2683,  3.7899,  0.9809],\n",
       "          [ 0.0922,  2.7166,  1.1927]],\n",
       "\n",
       "         ...,\n",
       "\n",
       "         [[ 0.2185,  0.0484,  0.1205],\n",
       "          [-0.3889,  2.4057, -0.0870],\n",
       "          [ 0.2975,  1.2481,  0.2080],\n",
       "          ...,\n",
       "          [ 0.8303, -1.1227,  0.3973],\n",
       "          [-0.7534,  1.2744,  0.2783],\n",
       "          [-0.1980, -1.4861, -1.7063]],\n",
       "\n",
       "         [[-0.8373,  1.4530,  0.8107],\n",
       "          [-0.1062, -2.8594, -0.6387],\n",
       "          [-0.2098,  0.0561,  0.9163],\n",
       "          ...,\n",
       "          [-0.4345, -0.5192,  0.1124],\n",
       "          [ 0.4728, -1.1804, -0.6453],\n",
       "          [-0.0515,  2.4165, -0.0977]],\n",
       "\n",
       "         [[-0.4848, -0.8554,  0.8796],\n",
       "          [-0.1584, -1.0113, -0.4165],\n",
       "          [ 1.0677, -1.9261, -1.3292],\n",
       "          ...,\n",
       "          [ 0.1098,  0.1583,  1.1596],\n",
       "          [-0.6658,  0.7497, -0.8000],\n",
       "          [-0.1547,  1.4122, -1.4911]]],\n",
       "\n",
       "\n",
       "        [[[-0.2955,  1.3854,  0.5531],\n",
       "          [ 0.4194,  0.3999,  0.1283],\n",
       "          [-0.8602,  0.3373, -0.2117],\n",
       "          ...,\n",
       "          [-1.9749,  0.0347, -0.4366],\n",
       "          [-0.0107,  0.6515,  0.2339],\n",
       "          [ 1.3488, -1.0786, -0.1447]],\n",
       "\n",
       "         [[-0.5985,  0.2962,  0.5100],\n",
       "          [ 0.7104, -1.6320,  1.7656],\n",
       "          [ 0.8697,  0.7687, -0.7554],\n",
       "          ...,\n",
       "          [-0.9366, -0.3716,  0.1954],\n",
       "          [ 1.0024, -0.0718, -0.5057],\n",
       "          [-0.6707, -0.4576, -1.1331]],\n",
       "\n",
       "         [[ 0.3597,  0.1161, -0.2759],\n",
       "          [ 1.1918, -0.9320,  0.8402],\n",
       "          [-0.1379,  0.8864, -0.7426],\n",
       "          ...,\n",
       "          [-0.6254,  0.5618, -0.3824],\n",
       "          [ 0.9917,  1.5333,  0.2755],\n",
       "          [ 4.2412,  0.3111, -0.1867]],\n",
       "\n",
       "         ...,\n",
       "\n",
       "         [[ 1.1821, -0.8899,  1.0518],\n",
       "          [-1.1861, -0.1921, -0.1031],\n",
       "          [ 1.4540, -2.3697, -0.3487],\n",
       "          ...,\n",
       "          [-1.6056, -0.0648, -0.2729],\n",
       "          [-0.3480, -2.2407,  0.1524],\n",
       "          [ 1.6972,  0.9230,  0.1560]],\n",
       "\n",
       "         [[-0.4895, -0.4940,  0.1378],\n",
       "          [-0.2268, -1.6963, -0.1723],\n",
       "          [ 2.6640,  1.7361, -1.1989],\n",
       "          ...,\n",
       "          [-1.2406, -0.5995, -0.3114],\n",
       "          [-1.3752, -0.2124,  0.2961],\n",
       "          [ 1.3107, -1.4297, -0.0332]],\n",
       "\n",
       "         [[ 1.0759,  0.3045,  0.3754],\n",
       "          [-3.2413, -0.2104,  0.1594],\n",
       "          [-0.5574, -1.4072,  0.3742],\n",
       "          ...,\n",
       "          [ 0.7713, -2.3495,  0.1045],\n",
       "          [ 1.5440,  1.3262,  0.1425],\n",
       "          [-0.2948,  1.3015,  0.2765]]]])"
      ]
     },
     "execution_count": 26,
     "metadata": {},
     "output_type": "execute_result"
    }
   ],
   "source": [
    "Results = Images*Scales\n",
    "Results"
   ]
  },
  {
   "cell_type": "markdown",
   "id": "bab5fa08",
   "metadata": {},
   "source": [
    "## Operations Across Dimensions"
   ]
  },
  {
   "cell_type": "code",
   "execution_count": 27,
   "id": "8d8a63e8",
   "metadata": {},
   "outputs": [
    {
     "data": {
      "text/plain": [
       "(tensor(2.1250), tensor(1.6520), tensor(4.), tensor(0.5000))"
      ]
     },
     "execution_count": 27,
     "metadata": {},
     "output_type": "execute_result"
    }
   ],
   "source": [
    "t = torch.tensor([0.5, 1, 3, 4])\n",
    "torch.mean(t), torch.std(t), torch.max(t), torch.min(t)"
   ]
  },
  {
   "cell_type": "code",
   "execution_count": 33,
   "id": "4e7d95d6",
   "metadata": {},
   "outputs": [
    {
     "data": {
      "text/plain": [
       "(tensor([[ 0.,  1.,  2.,  3.],\n",
       "         [ 4.,  5.,  6.,  7.],\n",
       "         [ 8.,  9., 10., 11.],\n",
       "         [12., 13., 14., 15.],\n",
       "         [16., 17., 18., 19.]], dtype=torch.float64),\n",
       " tensor([ 8.,  9., 10., 11.], dtype=torch.float64))"
      ]
     },
     "execution_count": 33,
     "metadata": {},
     "output_type": "execute_result"
    }
   ],
   "source": [
    "t = torch.arange(20, dtype=float).reshape(5,4)\n",
    "t, torch.mean(t, axis=0)"
   ]
  },
  {
   "cell_type": "code",
   "execution_count": 34,
   "id": "3658d81b",
   "metadata": {},
   "outputs": [],
   "source": [
    "t = torch.randn(5, 256, 256, 3)"
   ]
  },
  {
   "cell_type": "code",
   "execution_count": 37,
   "id": "90f20619",
   "metadata": {},
   "outputs": [
    {
     "data": {
      "text/plain": [
       "torch.Size([256, 256, 3])"
      ]
     },
     "execution_count": 37,
     "metadata": {},
     "output_type": "execute_result"
    }
   ],
   "source": [
    "torch.mean(t, axis=0).shape"
   ]
  },
  {
   "cell_type": "code",
   "execution_count": 38,
   "id": "f87b7360",
   "metadata": {},
   "outputs": [
    {
     "data": {
      "text/plain": [
       "torch.Size([5, 256, 256])"
      ]
     },
     "execution_count": 38,
     "metadata": {},
     "output_type": "execute_result"
    }
   ],
   "source": [
    "torch.mean(t, axis = -1).shape"
   ]
  },
  {
   "cell_type": "code",
   "execution_count": 39,
   "id": "0458ac44",
   "metadata": {},
   "outputs": [],
   "source": [
    "values, indices = torch.max(t, axis=-1)"
   ]
  },
  {
   "cell_type": "code",
   "execution_count": 41,
   "id": "8ae5f1d7",
   "metadata": {
    "scrolled": true
   },
   "outputs": [
    {
     "data": {
      "text/plain": [
       "tensor([[[1, 1, 1,  ..., 0, 0, 0],\n",
       "         [0, 1, 2,  ..., 2, 2, 2],\n",
       "         [1, 1, 2,  ..., 0, 0, 0],\n",
       "         ...,\n",
       "         [1, 2, 0,  ..., 1, 1, 0],\n",
       "         [0, 2, 0,  ..., 1, 2, 2],\n",
       "         [1, 1, 1,  ..., 0, 0, 2]],\n",
       "\n",
       "        [[0, 0, 2,  ..., 2, 2, 2],\n",
       "         [1, 2, 1,  ..., 1, 2, 2],\n",
       "         [2, 1, 1,  ..., 2, 0, 0],\n",
       "         ...,\n",
       "         [0, 1, 0,  ..., 1, 2, 0],\n",
       "         [0, 1, 1,  ..., 0, 2, 2],\n",
       "         [2, 0, 2,  ..., 0, 2, 1]],\n",
       "\n",
       "        [[1, 2, 1,  ..., 2, 2, 0],\n",
       "         [1, 2, 0,  ..., 2, 1, 0],\n",
       "         [2, 1, 0,  ..., 1, 2, 1],\n",
       "         ...,\n",
       "         [0, 2, 1,  ..., 2, 0, 1],\n",
       "         [1, 1, 2,  ..., 1, 1, 0],\n",
       "         [2, 1, 2,  ..., 2, 1, 0]],\n",
       "\n",
       "        [[0, 0, 1,  ..., 2, 2, 1],\n",
       "         [0, 1, 0,  ..., 1, 2, 0],\n",
       "         [0, 1, 1,  ..., 2, 1, 0],\n",
       "         ...,\n",
       "         [2, 2, 2,  ..., 0, 2, 2],\n",
       "         [2, 0, 0,  ..., 2, 1, 0],\n",
       "         [0, 0, 0,  ..., 1, 2, 0]],\n",
       "\n",
       "        [[2, 2, 2,  ..., 2, 1, 2],\n",
       "         [2, 0, 2,  ..., 0, 0, 1],\n",
       "         [0, 2, 1,  ..., 2, 1, 2],\n",
       "         ...,\n",
       "         [1, 2, 0,  ..., 0, 2, 0],\n",
       "         [2, 2, 2,  ..., 0, 0, 2],\n",
       "         [2, 2, 2,  ..., 2, 2, 2]]])"
      ]
     },
     "execution_count": 41,
     "metadata": {},
     "output_type": "execute_result"
    }
   ],
   "source": [
    "indices"
   ]
  },
  {
   "cell_type": "markdown",
   "id": "1282d007",
   "metadata": {},
   "source": [
    "## Differences between Pytorch and Numpy"
   ]
  },
  {
   "cell_type": "code",
   "execution_count": 45,
   "id": "4db6311b",
   "metadata": {},
   "outputs": [
    {
     "data": {
      "text/plain": [
       "tensor(917., grad_fn=<SumBackward0>)"
      ]
     },
     "execution_count": 45,
     "metadata": {},
     "output_type": "execute_result"
    }
   ],
   "source": [
    "x = torch.tensor([[5.,8.],[4.,6.]], requires_grad=True)\n",
    "y = x.pow(3).sum()\n",
    "y"
   ]
  },
  {
   "cell_type": "code",
   "execution_count": 46,
   "id": "ed7e2856",
   "metadata": {},
   "outputs": [
    {
     "data": {
      "text/plain": [
       "tensor([[ 75., 192.],\n",
       "        [ 48., 108.]])"
      ]
     },
     "execution_count": 46,
     "metadata": {},
     "output_type": "execute_result"
    }
   ],
   "source": [
    "y.backward()\n",
    "x.grad"
   ]
  },
  {
   "cell_type": "code",
   "execution_count": 48,
   "id": "7a89f420",
   "metadata": {},
   "outputs": [
    {
     "data": {
      "text/plain": [
       "tensor([[ 75., 192.],\n",
       "        [ 48., 108.]], grad_fn=<MulBackward0>)"
      ]
     },
     "execution_count": 48,
     "metadata": {},
     "output_type": "execute_result"
    }
   ],
   "source": [
    "3*x**2"
   ]
  },
  {
   "cell_type": "markdown",
   "id": "4df72f25",
   "metadata": {},
   "source": [
    "## Matrix Multiplication"
   ]
  },
  {
   "cell_type": "code",
   "execution_count": 50,
   "id": "f07a53dc",
   "metadata": {},
   "outputs": [],
   "source": [
    "A = torch.randn((1000,1000))\n",
    "B = torch.randn((1000,1000))"
   ]
  },
  {
   "cell_type": "code",
   "execution_count": 51,
   "id": "d957a5e8",
   "metadata": {},
   "outputs": [
    {
     "name": "stdout",
     "output_type": "stream",
     "text": [
      "0.006268362980335951\n"
     ]
    }
   ],
   "source": [
    "t1 = time.perf_counter()\n",
    "torch.matmul(A,B)\n",
    "t2 = time.perf_counter()\n",
    "print(t2-t1)"
   ]
  },
  {
   "cell_type": "code",
   "execution_count": 52,
   "id": "1f9bd9da",
   "metadata": {},
   "outputs": [],
   "source": [
    "A = np.random.randn(int(1e6)).reshape((1000,1000))\n",
    "B = np.random.randn(int(1e6)).reshape((1000,1000))"
   ]
  },
  {
   "cell_type": "code",
   "execution_count": 53,
   "id": "4244c140",
   "metadata": {},
   "outputs": [
    {
     "name": "stdout",
     "output_type": "stream",
     "text": [
      "0.01209839602233842\n"
     ]
    }
   ],
   "source": [
    "t1 = time.perf_counter()\n",
    "A@B\n",
    "t2 = time.perf_counter()\n",
    "print(t2-t1)"
   ]
  }
 ],
 "metadata": {
  "kernelspec": {
   "display_name": "Python 3 (ipykernel)",
   "language": "python",
   "name": "python3"
  },
  "language_info": {
   "codemirror_mode": {
    "name": "ipython",
    "version": 3
   },
   "file_extension": ".py",
   "mimetype": "text/x-python",
   "name": "python",
   "nbconvert_exporter": "python",
   "pygments_lexer": "ipython3",
   "version": "3.11.3"
  }
 },
 "nbformat": 4,
 "nbformat_minor": 5
}
