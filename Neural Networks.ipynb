{
 "cells": [
  {
   "cell_type": "code",
   "execution_count": 1,
   "id": "46232b86",
   "metadata": {},
   "outputs": [],
   "source": [
    "import torch\n",
    "import torch.nn as nn\n",
    "from torch.optim import SGD\n",
    "import numpy as np\n",
    "import matplotlib.pyplot as plt"
   ]
  },
  {
   "cell_type": "code",
   "execution_count": 4,
   "id": "89ee0419",
   "metadata": {},
   "outputs": [],
   "source": [
    "x = torch.tensor([[6,2], [5,2],[1,3],[7,6]]).float() #four data points\n",
    "y = torch.tensor([1,5,2,5]).float()"
   ]
  },
  {
   "cell_type": "code",
   "execution_count": 6,
   "id": "5c958357",
   "metadata": {},
   "outputs": [
    {
     "data": {
      "text/plain": [
       "tensor([[6., 2.],\n",
       "        [5., 2.],\n",
       "        [1., 3.],\n",
       "        [7., 6.]])"
      ]
     },
     "execution_count": 6,
     "metadata": {},
     "output_type": "execute_result"
    }
   ],
   "source": [
    "x"
   ]
  },
  {
   "cell_type": "code",
   "execution_count": 8,
   "id": "a78b0ae2",
   "metadata": {},
   "outputs": [
    {
     "data": {
      "text/plain": [
       "tensor([1., 5., 2., 5.])"
      ]
     },
     "execution_count": 8,
     "metadata": {},
     "output_type": "execute_result"
    }
   ],
   "source": [
    "y"
   ]
  },
  {
   "cell_type": "code",
   "execution_count": 9,
   "id": "2d38e6e2",
   "metadata": {},
   "outputs": [
    {
     "data": {
      "text/plain": [
       "Linear(in_features=2, out_features=8, bias=False)"
      ]
     },
     "execution_count": 9,
     "metadata": {},
     "output_type": "execute_result"
    }
   ],
   "source": [
    "M1 = nn.Linear(2, 8, bias = False)\n",
    "M1"
   ]
  },
  {
   "cell_type": "code",
   "execution_count": 10,
   "id": "b8f62eef",
   "metadata": {},
   "outputs": [
    {
     "data": {
      "text/plain": [
       "tensor([[ 0.6401,  1.7465,  2.0066, -0.9964,  2.0782, -2.4070,  0.6045, -3.4572],\n",
       "        [ 0.4029,  1.5397,  1.8293, -0.9016,  1.8206, -2.1663,  0.4074, -2.9284],\n",
       "        [-0.9381,  0.9660,  1.5916, -0.7363,  1.0561, -1.6846, -0.6699, -0.9555],\n",
       "        [-0.6897,  2.9656,  4.0697, -1.9465,  3.4005, -4.5729, -0.3544, -4.5550]],\n",
       "       grad_fn=<MmBackward0>)"
      ]
     },
     "execution_count": 10,
     "metadata": {},
     "output_type": "execute_result"
    }
   ],
   "source": [
    "M1(x)"
   ]
  },
  {
   "cell_type": "code",
   "execution_count": 12,
   "id": "9debf3c8",
   "metadata": {},
   "outputs": [
    {
     "data": {
      "text/plain": [
       "Linear(in_features=8, out_features=1, bias=False)"
      ]
     },
     "execution_count": 12,
     "metadata": {},
     "output_type": "execute_result"
    }
   ],
   "source": [
    "M2 = nn.Linear(8, 1, bias=False)\n",
    "M2"
   ]
  },
  {
   "cell_type": "code",
   "execution_count": 14,
   "id": "48c52e8a",
   "metadata": {},
   "outputs": [
    {
     "data": {
      "text/plain": [
       "tensor([[0.6635],\n",
       "        [0.6285],\n",
       "        [0.7155],\n",
       "        [1.6058]], grad_fn=<MmBackward0>)"
      ]
     },
     "execution_count": 14,
     "metadata": {},
     "output_type": "execute_result"
    }
   ],
   "source": [
    "M2(M1(x))"
   ]
  },
  {
   "cell_type": "code",
   "execution_count": 16,
   "id": "c5595dd1",
   "metadata": {},
   "outputs": [
    {
     "data": {
      "text/plain": [
       "tensor([1., 5., 2., 5.])"
      ]
     },
     "execution_count": 16,
     "metadata": {},
     "output_type": "execute_result"
    }
   ],
   "source": [
    "y"
   ]
  },
  {
   "cell_type": "markdown",
   "id": "a8ea87de",
   "metadata": {},
   "source": [
    "## Constructing Neural Network throuh OOP"
   ]
  },
  {
   "cell_type": "code",
   "execution_count": 17,
   "id": "6442764c",
   "metadata": {},
   "outputs": [],
   "source": [
    "class MyNeuralNet(nn.Module):\n",
    "    def __init__(self):\n",
    "        super().__init__()\n",
    "        self.Matrix1 = nn.Linear(2, 8, bias = False)\n",
    "        self.Matrix2 = nn.Linear(8, 1, bias = False)\n",
    "    def forward(self, x):\n",
    "        x = self.Matrix1(x)\n",
    "        x = self.Matrix2(x)\n",
    "        return x.squeeze()"
   ]
  },
  {
   "cell_type": "code",
   "execution_count": 18,
   "id": "0f8ecd7f",
   "metadata": {},
   "outputs": [
    {
     "name": "stdout",
     "output_type": "stream",
     "text": [
      "Parameter containing:\n",
      "tensor([[ 0.5434, -0.5678],\n",
      "        [ 0.4119,  0.3558],\n",
      "        [-0.1914, -0.1578],\n",
      "        [ 0.2718, -0.5765],\n",
      "        [-0.0467,  0.7062],\n",
      "        [ 0.0717,  0.5437],\n",
      "        [-0.6847, -0.0615],\n",
      "        [ 0.6222,  0.5085]], requires_grad=True)\n",
      "Parameter containing:\n",
      "tensor([[ 0.3434,  0.3020,  0.2313, -0.2710, -0.2339, -0.1426, -0.2423, -0.1115]],\n",
      "       requires_grad=True)\n"
     ]
    }
   ],
   "source": [
    "f = MyNeuralNet()\n",
    "for par in f.parameters():\n",
    "    print(par)"
   ]
  },
  {
   "cell_type": "code",
   "execution_count": 19,
   "id": "532c2c11",
   "metadata": {},
   "outputs": [
    {
     "data": {
      "text/plain": [
       "tensor([ 1.2373,  0.9470, -0.4667,  0.5183], grad_fn=<SqueezeBackward0>)"
      ]
     },
     "execution_count": 19,
     "metadata": {},
     "output_type": "execute_result"
    }
   ],
   "source": [
    "yhat = f(x)\n",
    "yhat"
   ]
  },
  {
   "cell_type": "code",
   "execution_count": 30,
   "id": "dc7c8f27",
   "metadata": {},
   "outputs": [
    {
     "data": {
      "text/plain": [
       "tensor([1., 5., 2., 5.])"
      ]
     },
     "execution_count": 30,
     "metadata": {},
     "output_type": "execute_result"
    }
   ],
   "source": [
    "y"
   ]
  },
  {
   "cell_type": "markdown",
   "id": "00f6cadb",
   "metadata": {},
   "source": [
    "## Adjusting a so that yhat and y are similar"
   ]
  },
  {
   "cell_type": "code",
   "execution_count": 21,
   "id": "d4466573",
   "metadata": {},
   "outputs": [
    {
     "data": {
      "text/plain": [
       "tensor(10.6634, grad_fn=<MseLossBackward0>)"
      ]
     },
     "execution_count": 21,
     "metadata": {},
     "output_type": "execute_result"
    }
   ],
   "source": [
    "L = nn.MSELoss() #mean squared error\n",
    "L(y, yhat)"
   ]
  },
  {
   "cell_type": "code",
   "execution_count": 23,
   "id": "b0b2e41f",
   "metadata": {},
   "outputs": [
    {
     "data": {
      "text/plain": [
       "tensor(10.6634, grad_fn=<MeanBackward0>)"
      ]
     },
     "execution_count": 23,
     "metadata": {},
     "output_type": "execute_result"
    }
   ],
   "source": [
    "torch.mean((y-yhat)**2)"
   ]
  },
  {
   "cell_type": "markdown",
   "id": "697f24ce",
   "metadata": {},
   "source": [
    "## Stochastic gradient descent takes in all model parameters a along with the learning rate l \n"
   ]
  },
  {
   "cell_type": "code",
   "execution_count": 24,
   "id": "c2fdd5e3",
   "metadata": {},
   "outputs": [],
   "source": [
    " opt = SGD(f.parameters(), lr = 0.001)"
   ]
  },
  {
   "cell_type": "code",
   "execution_count": 25,
   "id": "1feee5f3",
   "metadata": {},
   "outputs": [],
   "source": [
    "losses = []\n",
    "for _ in range(50):\n",
    "    opt.zero_grad() #flushes previous epoch's gradient\n",
    "    loss_value = L(f(x),y) #compute loss\n",
    "    loss_value.backward() #compute gradient\n",
    "    opt.step() #perform iteration using gradient above\n",
    "    losses.append(loss_value.item())"
   ]
  },
  {
   "cell_type": "markdown",
   "id": "070d3265",
   "metadata": {},
   "source": [
    "## Plot L(a) as a function of number of iterations"
   ]
  },
  {
   "cell_type": "code",
   "execution_count": 27,
   "id": "362a30b1",
   "metadata": {},
   "outputs": [
    {
     "data": {
      "text/plain": [
       "Text(0.5, 0, 'Epochs')"
      ]
     },
     "execution_count": 27,
     "metadata": {},
     "output_type": "execute_result"
    },
    {
     "data": {
      "image/png": "[encoded data removed]",
      "text/plain": [
       "<Figure size 640x480 with 1 Axes>"
      ]
     },
     "metadata": {},
     "output_type": "display_data"
    }
   ],
   "source": [
    "plt.plot(losses)\n",
    "plt.ylabel('Loss $L(y, \\hat{y};a)$')\n",
    "plt.xlabel('Epochs')"
   ]
  },
  {
   "cell_type": "code",
   "execution_count": 28,
   "id": "d9c2a51c",
   "metadata": {},
   "outputs": [
    {
     "data": {
      "text/plain": [
       "tensor([3.4259, 2.9309, 1.1787, 4.8325], grad_fn=<SqueezeBackward0>)"
      ]
     },
     "execution_count": 28,
     "metadata": {},
     "output_type": "execute_result"
    }
   ],
   "source": [
    "f(x)"
   ]
  },
  {
   "cell_type": "code",
   "execution_count": 29,
   "id": "338b3ed2",
   "metadata": {},
   "outputs": [
    {
     "data": {
      "text/plain": [
       "tensor([1., 5., 2., 5.])"
      ]
     },
     "execution_count": 29,
     "metadata": {},
     "output_type": "execute_result"
    }
   ],
   "source": [
    "y"
   ]
  }
 ],
 "metadata": {
  "kernelspec": {
   "display_name": "Python 3 (ipykernel)",
   "language": "python",
   "name": "python3"
  },
  "language_info": {
   "codemirror_mode": {
    "name": "ipython",
    "version": 3
   },
   "file_extension": ".py",
   "mimetype": "text/x-python",
   "name": "python",
   "nbconvert_exporter": "python",
   "pygments_lexer": "ipython3",
   "version": "3.11.3"
  }
 },
 "nbformat": 4,
 "nbformat_minor": 5
}
